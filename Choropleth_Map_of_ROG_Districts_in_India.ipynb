{
 "cells": [
  {
   "cell_type": "markdown",
   "metadata": {},
   "source": [
    "# Choropleth map of Red, Orange and Green zones in India\n",
    "\n",
    "Indian Governemnt (GoI) initiated third phase of the lockdown, or ‘lockdown 3.0’ from 4th May for 2 weeks in order to combat COVID 19 (novel coronavirus). They divided all 736 districts of the country in Red, Orange and Green zones. See more: https://www.indiatoday.in/india/story/red-orange-green-zones-full-current-update-list-districts-states-india-coronavirus-1673358-2020-05-01\n",
    "\n",
    "Here we create an interactive choropleth map representing those districts in red, oranges and green colours. Also while hovering over districts, details related to covid patients comes up.<br>\n",
    "\n",
    "*Wiki: A choropleth  a type of thematic map in which areas are shaded or patterned in proportion to a statistical variable that represents an aggregate summary of a geographic characteristic within each area.* One can follow this blog: https://towardsdatascience.com/a-complete-guide-to-an-interactive-geographical-map-using-python-f4c5197e23e0\n",
    "\n",
    "Since we want to incorporate data visualization interactivity, we will use Bokeh library. Bokeh consumes GeoJSON format which represents geographical features with JSON. The plot is saved in 'html' format and can be seen in a browser."
   ]
  },
  {
   "cell_type": "markdown",
   "metadata": {},
   "source": [
    "### Import basic libraries\n",
    "\n",
    "Geopandas can read almost any vector-based spatial data format including shapefile using *read_file* command which returns a GeoDataframe object.<br>\n",
    "Pandas is all time favourite for dealing with data."
   ]
  },
  {
   "cell_type": "code",
   "execution_count": 1,
   "metadata": {},
   "outputs": [],
   "source": [
    "import geopandas as gpd\n",
    "import pandas as pd"
   ]
  },
  {
   "cell_type": "markdown",
   "metadata": {},
   "source": [
    "### Data\n",
    "\n",
    "#### 1. Covid-19 Patient number Data\n",
    "\n",
    "First we need to load the Covid 19 data at district level. There is NO data made available by GoI/State governments district wise in India. Therefore we need to rely on crowdsource based portals like https://www.covid19india.org/.<br>\n",
    "Even the data provided by them is not correct to a very large percent. They have pushed much of the data in 'unknown' sections.\n",
    "But anyhow, we are strictly going to follow only the district rows where name are mentioned."
   ]
  },
  {
   "cell_type": "code",
   "execution_count": 2,
   "metadata": {
    "scrolled": false
   },
   "outputs": [
    {
     "data": {
      "text/html": [
       "<div>\n",
       "<style scoped>\n",
       "    .dataframe tbody tr th:only-of-type {\n",
       "        vertical-align: middle;\n",
       "    }\n",
       "\n",
       "    .dataframe tbody tr th {\n",
       "        vertical-align: top;\n",
       "    }\n",
       "\n",
       "    .dataframe thead th {\n",
       "        text-align: right;\n",
       "    }\n",
       "</style>\n",
       "<table border=\"1\" class=\"dataframe\">\n",
       "  <thead>\n",
       "    <tr style=\"text-align: right;\">\n",
       "      <th></th>\n",
       "      <th>SlNo</th>\n",
       "      <th>State_Code</th>\n",
       "      <th>State</th>\n",
       "      <th>District_Key</th>\n",
       "      <th>District</th>\n",
       "      <th>Confirmed</th>\n",
       "      <th>Active</th>\n",
       "      <th>Recovered</th>\n",
       "      <th>Deceased</th>\n",
       "      <th>Delta_Confirmed</th>\n",
       "      <th>Delta_Active</th>\n",
       "      <th>Delta_Recovered</th>\n",
       "      <th>Delta_Deceased</th>\n",
       "      <th>District_Notes</th>\n",
       "      <th>Last_Updated</th>\n",
       "    </tr>\n",
       "  </thead>\n",
       "  <tbody>\n",
       "    <tr>\n",
       "      <th>0</th>\n",
       "      <td>0</td>\n",
       "      <td>UN</td>\n",
       "      <td>State Unassigned</td>\n",
       "      <td>UN_Unassigned</td>\n",
       "      <td>Unassigned</td>\n",
       "      <td>5121</td>\n",
       "      <td>5121</td>\n",
       "      <td>0</td>\n",
       "      <td>0</td>\n",
       "      <td>448</td>\n",
       "      <td>448</td>\n",
       "      <td>0</td>\n",
       "      <td>0</td>\n",
       "      <td>NaN</td>\n",
       "      <td>NaN</td>\n",
       "    </tr>\n",
       "    <tr>\n",
       "      <th>1</th>\n",
       "      <td>1</td>\n",
       "      <td>AN</td>\n",
       "      <td>Andaman and Nicobar Islands</td>\n",
       "      <td>AN_Nicobars</td>\n",
       "      <td>Nicobars</td>\n",
       "      <td>0</td>\n",
       "      <td>0</td>\n",
       "      <td>0</td>\n",
       "      <td>0</td>\n",
       "      <td>0</td>\n",
       "      <td>0</td>\n",
       "      <td>0</td>\n",
       "      <td>0</td>\n",
       "      <td>NaN</td>\n",
       "      <td>NaN</td>\n",
       "    </tr>\n",
       "    <tr>\n",
       "      <th>2</th>\n",
       "      <td>2</td>\n",
       "      <td>AN</td>\n",
       "      <td>Andaman and Nicobar Islands</td>\n",
       "      <td>AN_North and Middle Andaman</td>\n",
       "      <td>North and Middle Andaman</td>\n",
       "      <td>1</td>\n",
       "      <td>0</td>\n",
       "      <td>1</td>\n",
       "      <td>0</td>\n",
       "      <td>0</td>\n",
       "      <td>0</td>\n",
       "      <td>0</td>\n",
       "      <td>0</td>\n",
       "      <td>NaN</td>\n",
       "      <td>NaN</td>\n",
       "    </tr>\n",
       "    <tr>\n",
       "      <th>3</th>\n",
       "      <td>3</td>\n",
       "      <td>AN</td>\n",
       "      <td>Andaman and Nicobar Islands</td>\n",
       "      <td>AN_South Andaman</td>\n",
       "      <td>South Andaman</td>\n",
       "      <td>32</td>\n",
       "      <td>0</td>\n",
       "      <td>32</td>\n",
       "      <td>0</td>\n",
       "      <td>0</td>\n",
       "      <td>0</td>\n",
       "      <td>0</td>\n",
       "      <td>0</td>\n",
       "      <td>NaN</td>\n",
       "      <td>NaN</td>\n",
       "    </tr>\n",
       "    <tr>\n",
       "      <th>4</th>\n",
       "      <td>0</td>\n",
       "      <td>AP</td>\n",
       "      <td>Andhra Pradesh</td>\n",
       "      <td>AP_Foreign Evacuees</td>\n",
       "      <td>Foreign Evacuees</td>\n",
       "      <td>111</td>\n",
       "      <td>111</td>\n",
       "      <td>0</td>\n",
       "      <td>0</td>\n",
       "      <td>0</td>\n",
       "      <td>0</td>\n",
       "      <td>0</td>\n",
       "      <td>0</td>\n",
       "      <td>NaN</td>\n",
       "      <td>NaN</td>\n",
       "    </tr>\n",
       "  </tbody>\n",
       "</table>\n",
       "</div>"
      ],
      "text/plain": [
       "   SlNo State_Code                        State                 District_Key  \\\n",
       "0     0         UN             State Unassigned                UN_Unassigned   \n",
       "1     1         AN  Andaman and Nicobar Islands                  AN_Nicobars   \n",
       "2     2         AN  Andaman and Nicobar Islands  AN_North and Middle Andaman   \n",
       "3     3         AN  Andaman and Nicobar Islands             AN_South Andaman   \n",
       "4     0         AP               Andhra Pradesh          AP_Foreign Evacuees   \n",
       "\n",
       "                   District  Confirmed  Active  Recovered  Deceased  \\\n",
       "0                Unassigned       5121    5121          0         0   \n",
       "1                  Nicobars          0       0          0         0   \n",
       "2  North and Middle Andaman          1       0          1         0   \n",
       "3             South Andaman         32       0         32         0   \n",
       "4          Foreign Evacuees        111     111          0         0   \n",
       "\n",
       "   Delta_Confirmed  Delta_Active  Delta_Recovered  Delta_Deceased  \\\n",
       "0              448           448                0               0   \n",
       "1                0             0                0               0   \n",
       "2                0             0                0               0   \n",
       "3                0             0                0               0   \n",
       "4                0             0                0               0   \n",
       "\n",
       "  District_Notes  Last_Updated  \n",
       "0            NaN           NaN  \n",
       "1            NaN           NaN  \n",
       "2            NaN           NaN  \n",
       "3            NaN           NaN  \n",
       "4            NaN           NaN  "
      ]
     },
     "execution_count": 2,
     "metadata": {},
     "output_type": "execute_result"
    }
   ],
   "source": [
    "districtdata = pd.read_csv('https://api.covid19india.org/csv/latest/district_wise.csv')\n",
    "districtdata.head()"
   ]
  },
  {
   "cell_type": "markdown",
   "metadata": {},
   "source": [
    "#### 2. India District Shapefile\n",
    "\n",
    "An excellent updated shapefile can be found here: https://hub.arcgis.com/datasets/esriindia1::india-districts-boundary. One can download it from here, I have included its folder in this very direcory as well. Although their are many spelling mistakes, which I have corrected in next section."
   ]
  },
  {
   "cell_type": "code",
   "execution_count": 3,
   "metadata": {},
   "outputs": [
    {
     "data": {
      "text/html": [
       "<div>\n",
       "<style scoped>\n",
       "    .dataframe tbody tr th:only-of-type {\n",
       "        vertical-align: middle;\n",
       "    }\n",
       "\n",
       "    .dataframe tbody tr th {\n",
       "        vertical-align: top;\n",
       "    }\n",
       "\n",
       "    .dataframe thead th {\n",
       "        text-align: right;\n",
       "    }\n",
       "</style>\n",
       "<table border=\"1\" class=\"dataframe\">\n",
       "  <thead>\n",
       "    <tr style=\"text-align: right;\">\n",
       "      <th></th>\n",
       "      <th>objectid</th>\n",
       "      <th>statecode</th>\n",
       "      <th>statename</th>\n",
       "      <th>state_ut</th>\n",
       "      <th>distcode</th>\n",
       "      <th>distname</th>\n",
       "      <th>st_area(sh</th>\n",
       "      <th>st_length(</th>\n",
       "      <th>countrynam</th>\n",
       "      <th>geometry</th>\n",
       "    </tr>\n",
       "  </thead>\n",
       "  <tbody>\n",
       "    <tr>\n",
       "      <th>0</th>\n",
       "      <td>1</td>\n",
       "      <td>27</td>\n",
       "      <td>MAHARASHTRA</td>\n",
       "      <td>STATE</td>\n",
       "      <td>499</td>\n",
       "      <td>Jalgaon</td>\n",
       "      <td>1.353967e+10</td>\n",
       "      <td>8.464308e+05</td>\n",
       "      <td>India</td>\n",
       "      <td>POLYGON ((75.23335 21.41481, 75.23469 21.41453...</td>\n",
       "    </tr>\n",
       "    <tr>\n",
       "      <th>1</th>\n",
       "      <td>2</td>\n",
       "      <td>27</td>\n",
       "      <td>MAHARASHTRA</td>\n",
       "      <td>STATE</td>\n",
       "      <td>516</td>\n",
       "      <td>Nashik</td>\n",
       "      <td>1.771358e+10</td>\n",
       "      <td>9.720056e+05</td>\n",
       "      <td>India</td>\n",
       "      <td>POLYGON ((74.13013 20.86311, 74.13215 20.86160...</td>\n",
       "    </tr>\n",
       "    <tr>\n",
       "      <th>2</th>\n",
       "      <td>3</td>\n",
       "      <td>27</td>\n",
       "      <td>MAHARASHTRA</td>\n",
       "      <td>STATE</td>\n",
       "      <td>509</td>\n",
       "      <td>Chandrapur</td>\n",
       "      <td>1.294532e+10</td>\n",
       "      <td>7.410244e+05</td>\n",
       "      <td>India</td>\n",
       "      <td>POLYGON ((79.75755 20.73462, 79.76047 20.73463...</td>\n",
       "    </tr>\n",
       "    <tr>\n",
       "      <th>3</th>\n",
       "      <td>4</td>\n",
       "      <td>27</td>\n",
       "      <td>MAHARASHTRA</td>\n",
       "      <td>STATE</td>\n",
       "      <td>510</td>\n",
       "      <td>Yavatmal</td>\n",
       "      <td>1.547940e+10</td>\n",
       "      <td>1.014942e+06</td>\n",
       "      <td>India</td>\n",
       "      <td>POLYGON ((78.26132 20.69735, 78.26276 20.69717...</td>\n",
       "    </tr>\n",
       "    <tr>\n",
       "      <th>4</th>\n",
       "      <td>5</td>\n",
       "      <td>27</td>\n",
       "      <td>MAHARASHTRA</td>\n",
       "      <td>STATE</td>\n",
       "      <td>511</td>\n",
       "      <td>Nanded</td>\n",
       "      <td>1.186387e+10</td>\n",
       "      <td>1.131732e+06</td>\n",
       "      <td>India</td>\n",
       "      <td>POLYGON ((78.05387 19.92452, 78.05449 19.92435...</td>\n",
       "    </tr>\n",
       "  </tbody>\n",
       "</table>\n",
       "</div>"
      ],
      "text/plain": [
       "   objectid statecode    statename state_ut distcode    distname  \\\n",
       "0         1        27  MAHARASHTRA    STATE      499     Jalgaon   \n",
       "1         2        27  MAHARASHTRA    STATE      516      Nashik   \n",
       "2         3        27  MAHARASHTRA    STATE      509  Chandrapur   \n",
       "3         4        27  MAHARASHTRA    STATE      510    Yavatmal   \n",
       "4         5        27  MAHARASHTRA    STATE      511      Nanded   \n",
       "\n",
       "     st_area(sh    st_length( countrynam  \\\n",
       "0  1.353967e+10  8.464308e+05      India   \n",
       "1  1.771358e+10  9.720056e+05      India   \n",
       "2  1.294532e+10  7.410244e+05      India   \n",
       "3  1.547940e+10  1.014942e+06      India   \n",
       "4  1.186387e+10  1.131732e+06      India   \n",
       "\n",
       "                                            geometry  \n",
       "0  POLYGON ((75.23335 21.41481, 75.23469 21.41453...  \n",
       "1  POLYGON ((74.13013 20.86311, 74.13215 20.86160...  \n",
       "2  POLYGON ((79.75755 20.73462, 79.76047 20.73463...  \n",
       "3  POLYGON ((78.26132 20.69735, 78.26276 20.69717...  \n",
       "4  POLYGON ((78.05387 19.92452, 78.05449 19.92435...  "
      ]
     },
     "execution_count": 3,
     "metadata": {},
     "output_type": "execute_result"
    }
   ],
   "source": [
    "df1 = gpd.read_file('India_Districts/c44c9b96-f570-4ee3-97f1-ebad64efa4c2202044-1-1rb4x6s.8xx6.shp')\n",
    "df1.head()"
   ]
  },
  {
   "cell_type": "code",
   "execution_count": 4,
   "metadata": {},
   "outputs": [
    {
     "data": {
      "text/plain": [
       "<matplotlib.axes._subplots.AxesSubplot at 0x1860153bf48>"
      ]
     },
     "execution_count": 4,
     "metadata": {},
     "output_type": "execute_result"
    },
    {
     "data": {
      "image/png": "[encoded data removed]",
      "text/plain": [
       "<Figure size 576x576 with 1 Axes>"
      ]
     },
     "metadata": {
      "needs_background": "light"
     },
     "output_type": "display_data"
    }
   ],
   "source": [
    "## showing the India map based on the shapefile... See the districts boundary\n",
    "df1.plot(figsize = (8,8))"
   ]
  },
  {
   "cell_type": "markdown",
   "metadata": {},
   "source": [
    "#### 3. Districtwise zone data\n",
    "\n",
    "The data has been published by Ministry of Health and Family Welfare. I have directly downloaded it from https://www.kaggle.com/xordux/india-corona-severity-zones, and placed it in this directory."
   ]
  },
  {
   "cell_type": "code",
   "execution_count": 5,
   "metadata": {
    "scrolled": true
   },
   "outputs": [
    {
     "data": {
      "text/html": [
       "<div>\n",
       "<style scoped>\n",
       "    .dataframe tbody tr th:only-of-type {\n",
       "        vertical-align: middle;\n",
       "    }\n",
       "\n",
       "    .dataframe tbody tr th {\n",
       "        vertical-align: top;\n",
       "    }\n",
       "\n",
       "    .dataframe thead th {\n",
       "        text-align: right;\n",
       "    }\n",
       "</style>\n",
       "<table border=\"1\" class=\"dataframe\">\n",
       "  <thead>\n",
       "    <tr style=\"text-align: right;\">\n",
       "      <th></th>\n",
       "      <th>No</th>\n",
       "      <th>District</th>\n",
       "      <th>State</th>\n",
       "      <th>Zone</th>\n",
       "    </tr>\n",
       "  </thead>\n",
       "  <tbody>\n",
       "    <tr>\n",
       "      <th>0</th>\n",
       "      <td>1</td>\n",
       "      <td>South Andaman</td>\n",
       "      <td>Andaman and Nicobar Islands</td>\n",
       "      <td>Red</td>\n",
       "    </tr>\n",
       "    <tr>\n",
       "      <th>1</th>\n",
       "      <td>2</td>\n",
       "      <td>Nicobars</td>\n",
       "      <td>Andaman and Nicobar Islands</td>\n",
       "      <td>Green</td>\n",
       "    </tr>\n",
       "    <tr>\n",
       "      <th>2</th>\n",
       "      <td>3</td>\n",
       "      <td>North and Middle Andaman</td>\n",
       "      <td>Andaman and Nicobar Islands</td>\n",
       "      <td>Green</td>\n",
       "    </tr>\n",
       "    <tr>\n",
       "      <th>3</th>\n",
       "      <td>4</td>\n",
       "      <td>Kurnool</td>\n",
       "      <td>Andhra Pradesh</td>\n",
       "      <td>Red</td>\n",
       "    </tr>\n",
       "    <tr>\n",
       "      <th>4</th>\n",
       "      <td>5</td>\n",
       "      <td>Guntur</td>\n",
       "      <td>Andhra Pradesh</td>\n",
       "      <td>Red</td>\n",
       "    </tr>\n",
       "  </tbody>\n",
       "</table>\n",
       "</div>"
      ],
      "text/plain": [
       "   No                  District                        State   Zone\n",
       "0   1             South Andaman  Andaman and Nicobar Islands    Red\n",
       "1   2                  Nicobars  Andaman and Nicobar Islands  Green\n",
       "2   3  North and Middle Andaman  Andaman and Nicobar Islands  Green\n",
       "3   4                   Kurnool               Andhra Pradesh    Red\n",
       "4   5                    Guntur               Andhra Pradesh    Red"
      ]
     },
     "execution_count": 5,
     "metadata": {},
     "output_type": "execute_result"
    }
   ],
   "source": [
    "zones = pd.read_csv('Zones in india.csv')\n",
    "\n",
    "zones.head()"
   ]
  },
  {
   "cell_type": "markdown",
   "metadata": {},
   "source": [
    "### Data Cleaning"
   ]
  },
  {
   "cell_type": "code",
   "execution_count": 6,
   "metadata": {},
   "outputs": [
    {
     "name": "stderr",
     "output_type": "stream",
     "text": [
      "C:\\Users\\yatharth\\Anaconda3\\envs\\AI\\lib\\site-packages\\ipykernel_launcher.py:2: SettingWithCopyWarning: \n",
      "A value is trying to be set on a copy of a slice from a DataFrame\n",
      "\n",
      "See the caveats in the documentation: https://pandas.pydata.org/pandas-docs/stable/user_guide/indexing.html#returning-a-view-versus-a-copy\n",
      "  \n"
     ]
    }
   ],
   "source": [
    "# Capitalizing the first letter of the state names \n",
    "for i in range(df1.shape[0]): df1['statename'][i] = df1['statename'][i].title()\n",
    "\n",
    "# Correcting the state and UT names\n",
    "df1['statename'].replace({'Andaman & Nicobar': 'Andaman and Nicobar Islands', \n",
    "                          'Dadra & Nagar Have': 'Dadra and Nagar Haveli and Daman and Diu',\n",
    "                          'Daman & Diu' : 'Dadra and Nagar Haveli and Daman and Diu',\n",
    "                          'Jammu & Kashmir' : 'Jammu and Kashmir'}, inplace=True)\n",
    "\n"
   ]
  },
  {
   "cell_type": "markdown",
   "metadata": {},
   "source": [
    "Correcting the spellings of districts in the dataframe made from shapefile and changing some column names"
   ]
  },
  {
   "cell_type": "code",
   "execution_count": 7,
   "metadata": {},
   "outputs": [
    {
     "name": "stderr",
     "output_type": "stream",
     "text": [
      "C:\\Users\\yatharth\\Anaconda3\\envs\\AI\\lib\\site-packages\\ipykernel_launcher.py:82: SettingWithCopyWarning: \n",
      "A value is trying to be set on a copy of a slice from a DataFrame\n",
      "\n",
      "See the caveats in the documentation: https://pandas.pydata.org/pandas-docs/stable/user_guide/indexing.html#returning-a-view-versus-a-copy\n"
     ]
    }
   ],
   "source": [
    "# Spelling correction\n",
    "df1['distname'].replace({'Baramula' : 'Baramulla',\n",
    "                         'Bandipore' : 'Bandipora',\n",
    "                         'Badgam' : 'Budgam',\n",
    "                         'Shupiyan' : 'Shopiyan',\n",
    "                         'Sahibzada Ajit Singh Nag*' : 'S.A.S. Nagar',\n",
    "                         'Firozpur': 'Ferozepur',\n",
    "                         'Lahul & Spiti' : 'Lahaul and Spiti',\n",
    "                         'Charki Dadri': 'Charkhi Dadri',\n",
    "                         'Central' : 'Central Delhi',\n",
    "                         'East' : 'East Delhi',\n",
    "                         'North' : 'North Delhi', \n",
    "                         'South West' : 'South West Delhi', \n",
    "                         'South' : 'South Delhi', \n",
    "                         'North East' : 'North East Delhi', \n",
    "                         'West' : 'West Delhi', \n",
    "                         'South East': 'South East Delhi', \n",
    "                         'North West' : 'North West Delhi',\n",
    "                         'Jhunjhunun': 'Jhunjhunu', \n",
    "                         'Jalor' : 'Jalore', \n",
    "                         'Chittaurgarh' : 'Chittorgarh', \n",
    "                         'Dhaulpur': 'Dholpur',\n",
    "                         'Chota Udaipur': 'Chhota Udaipur', \n",
    "                         'Kachchh' : 'Kutch', \n",
    "                         'The Dangs' : 'Dang', \n",
    "                         'Banas Kantha' : 'Banaskantha', \n",
    "                         'Ahmadabad' : 'Ahmedabad', \n",
    "                         'Sabar Kantha' : 'Sabarkantha', \n",
    "                         'Dohad' : 'Dahod', \n",
    "                         'Mahesana' : 'Mehsana', \n",
    "                         'Panch Mahals' : 'Panchmahal', \n",
    "                         'Faizabad' : 'Ayodhya', \n",
    "                         'Kheri' : 'Lakhimpur Kheri', \n",
    "                         'Bara Banki': 'Barabanki', \n",
    "                         'Mahrajganj' : 'Maharajganj',\n",
    "                         'Pashchim Champaran': 'West Champaran', \n",
    "                         'Kaimur (bhabua)': 'Kaimur', \n",
    "                         'Purba Champaran': 'East Champaran',\n",
    "                         'Purbi Singhbhum': 'East Singhbhum', \n",
    "                         'Pashchimi Singhbhum': 'West Singhbhum', \n",
    "                         'Saraikela-kharsawan': 'Saraikela-Kharsawan', \n",
    "                         'Kodarma': 'Koderma',\n",
    "                         'Narsimhapur': 'Narsinghpur', \n",
    "                         'West Nimar': 'Khargone', \n",
    "                         'East Nimar': 'Khandwa',\n",
    "                         'Janjgir - Champa' : 'Janjgir Champa',\n",
    "                         'Almora\\n': 'Almora',\n",
    "                         'Garhwal': 'Pauri Garhwal', \n",
    "                         'Hardwar': 'Haridwar', \n",
    "                         'Darjiling': 'Darjeeling', \n",
    "                         'Maldah' : 'Malda', \n",
    "                         'North Twenty Four Pargan*' : 'North 24 Parganas', \n",
    "                         'Medinipur West' : 'Paschim Medinipur', \n",
    "                         'Puruliya': 'Purulia', \n",
    "                         'South Twenty Four Pargan*' : 'South 24 Parganas',\n",
    "                         'North  District': 'North District',\n",
    "                         'South Salmara Mancachar': 'South Salmara Mankachar',\n",
    "                         'Anugul': 'Angul', \n",
    "                         'Jajapur': 'Jajpur', \n",
    "                         'Jagatsinghapur' : 'Jagatsinghpur', \n",
    "                         'Baleshwar': 'Balasore', \n",
    "                         'Baudh': 'Boudh', \n",
    "                         'Debagarh' : 'Deogarh',\n",
    "                         'Ahmadnagar' : 'Ahmednagar', \n",
    "                         'Gondiya' : 'Gondia', \n",
    "                         'Bid' : 'Beed', \n",
    "                         'Buldana': 'Buldhana',\n",
    "                         'Jagitial' : 'Jagtial', \n",
    "                         'Jayashankar' : 'Jayashankar Bhupalapally', \n",
    "                         'Jangoan': 'Jangaon', \n",
    "                         'Kumuram Bheem Asifabad' : 'Komaram Bheem',\n",
    "                         'Y.S.R.': 'Y.S.R. Kadapa', \n",
    "                         'Sri Potti Sriramulu Nell*' : 'S.P.S. Nellore',\n",
    "                         'Bangalore' : 'Bengaluru Urban',\n",
    "                         'The Nilgiris': 'Nilgiris', \n",
    "                         'Kanniyakumari' : 'Kanyakumari',\n",
    "                         'North  & Middle Andaman': 'North and Middle Andaman',\n",
    "                         'Dadra & Nagar Haveli': 'Dadra and Nagar Haveli'},inplace = True)\n",
    "\n",
    "for i in range(df1.shape[0]):\n",
    "        if df1['statename'][i] == 'Maharashtra' and df1['distname'][i] == 'Raigarh':\n",
    "            df1['distname'][i] = 'Raigad'            \n",
    "\n",
    "# Changing column name\n",
    "df1 = df1.rename(columns={'distname': 'District', 'statename': 'State'})"
   ]
  },
  {
   "cell_type": "markdown",
   "metadata": {},
   "source": [
    "### Data Preparation\n",
    "\n",
    "Creating a common dataframe with all data.<br>\n",
    "In df1 (shapefile), we merged the covid19 patients data based on District and State, then the zones dataframe was similarly merged. Few unneccesary columns were also dropped"
   ]
  },
  {
   "cell_type": "code",
   "execution_count": 8,
   "metadata": {
    "scrolled": false
   },
   "outputs": [
    {
     "data": {
      "text/html": [
       "<div>\n",
       "<style scoped>\n",
       "    .dataframe tbody tr th:only-of-type {\n",
       "        vertical-align: middle;\n",
       "    }\n",
       "\n",
       "    .dataframe tbody tr th {\n",
       "        vertical-align: top;\n",
       "    }\n",
       "\n",
       "    .dataframe thead th {\n",
       "        text-align: right;\n",
       "    }\n",
       "</style>\n",
       "<table border=\"1\" class=\"dataframe\">\n",
       "  <thead>\n",
       "    <tr style=\"text-align: right;\">\n",
       "      <th></th>\n",
       "      <th>objectid</th>\n",
       "      <th>State</th>\n",
       "      <th>District</th>\n",
       "      <th>st_area(sh</th>\n",
       "      <th>st_length(</th>\n",
       "      <th>geometry</th>\n",
       "      <th>Confirmed</th>\n",
       "      <th>Active</th>\n",
       "      <th>Recovered</th>\n",
       "      <th>Deceased</th>\n",
       "      <th>Zone</th>\n",
       "    </tr>\n",
       "  </thead>\n",
       "  <tbody>\n",
       "    <tr>\n",
       "      <th>0</th>\n",
       "      <td>1</td>\n",
       "      <td>Maharashtra</td>\n",
       "      <td>Jalgaon</td>\n",
       "      <td>1.353967e+10</td>\n",
       "      <td>8.464308e+05</td>\n",
       "      <td>POLYGON ((75.23335 21.41481, 75.23469 21.41453...</td>\n",
       "      <td>607</td>\n",
       "      <td>263</td>\n",
       "      <td>272</td>\n",
       "      <td>72</td>\n",
       "      <td>Red</td>\n",
       "    </tr>\n",
       "    <tr>\n",
       "      <th>1</th>\n",
       "      <td>2</td>\n",
       "      <td>Maharashtra</td>\n",
       "      <td>Nashik</td>\n",
       "      <td>1.771358e+10</td>\n",
       "      <td>9.720056e+05</td>\n",
       "      <td>POLYGON ((74.13013 20.86311, 74.13215 20.86160...</td>\n",
       "      <td>1111</td>\n",
       "      <td>158</td>\n",
       "      <td>893</td>\n",
       "      <td>60</td>\n",
       "      <td>Red</td>\n",
       "    </tr>\n",
       "    <tr>\n",
       "      <th>2</th>\n",
       "      <td>3</td>\n",
       "      <td>Maharashtra</td>\n",
       "      <td>Chandrapur</td>\n",
       "      <td>1.294532e+10</td>\n",
       "      <td>7.410244e+05</td>\n",
       "      <td>POLYGON ((79.75755 20.73462, 79.76047 20.73463...</td>\n",
       "      <td>25</td>\n",
       "      <td>10</td>\n",
       "      <td>15</td>\n",
       "      <td>0</td>\n",
       "      <td>Orange</td>\n",
       "    </tr>\n",
       "    <tr>\n",
       "      <th>3</th>\n",
       "      <td>4</td>\n",
       "      <td>Maharashtra</td>\n",
       "      <td>Yavatmal</td>\n",
       "      <td>1.547940e+10</td>\n",
       "      <td>1.014942e+06</td>\n",
       "      <td>POLYGON ((78.26132 20.69735, 78.26276 20.69717...</td>\n",
       "      <td>130</td>\n",
       "      <td>38</td>\n",
       "      <td>92</td>\n",
       "      <td>0</td>\n",
       "      <td>Red</td>\n",
       "    </tr>\n",
       "    <tr>\n",
       "      <th>4</th>\n",
       "      <td>5</td>\n",
       "      <td>Maharashtra</td>\n",
       "      <td>Nanded</td>\n",
       "      <td>1.186387e+10</td>\n",
       "      <td>1.131732e+06</td>\n",
       "      <td>POLYGON ((78.05387 19.92452, 78.05449 19.92435...</td>\n",
       "      <td>108</td>\n",
       "      <td>16</td>\n",
       "      <td>86</td>\n",
       "      <td>6</td>\n",
       "      <td>Orange</td>\n",
       "    </tr>\n",
       "  </tbody>\n",
       "</table>\n",
       "</div>"
      ],
      "text/plain": [
       "   objectid        State    District    st_area(sh    st_length(  \\\n",
       "0         1  Maharashtra     Jalgaon  1.353967e+10  8.464308e+05   \n",
       "1         2  Maharashtra      Nashik  1.771358e+10  9.720056e+05   \n",
       "2         3  Maharashtra  Chandrapur  1.294532e+10  7.410244e+05   \n",
       "3         4  Maharashtra    Yavatmal  1.547940e+10  1.014942e+06   \n",
       "4         5  Maharashtra      Nanded  1.186387e+10  1.131732e+06   \n",
       "\n",
       "                                            geometry  Confirmed  Active  \\\n",
       "0  POLYGON ((75.23335 21.41481, 75.23469 21.41453...        607     263   \n",
       "1  POLYGON ((74.13013 20.86311, 74.13215 20.86160...       1111     158   \n",
       "2  POLYGON ((79.75755 20.73462, 79.76047 20.73463...         25      10   \n",
       "3  POLYGON ((78.26132 20.69735, 78.26276 20.69717...        130      38   \n",
       "4  POLYGON ((78.05387 19.92452, 78.05449 19.92435...        108      16   \n",
       "\n",
       "   Recovered  Deceased    Zone  \n",
       "0        272        72     Red  \n",
       "1        893        60     Red  \n",
       "2         15         0  Orange  \n",
       "3         92         0     Red  \n",
       "4         86         6  Orange  "
      ]
     },
     "execution_count": 8,
     "metadata": {},
     "output_type": "execute_result"
    }
   ],
   "source": [
    "newdf = df1.merge(districtdata[['State', 'District', 'Confirmed', 'Active', 'Recovered', 'Deceased']], on = ['District', 'State'])\n",
    "newdf = newdf.merge(zones[['State', 'District', 'Zone']], on = ['District', 'State'])\n",
    "newdf = newdf.drop(columns = ['statecode', 'state_ut', 'distcode', 'countrynam'])\n",
    "newdf.head()"
   ]
  },
  {
   "cell_type": "markdown",
   "metadata": {},
   "source": [
    "###  Importing advanced libraries"
   ]
  },
  {
   "cell_type": "code",
   "execution_count": 9,
   "metadata": {},
   "outputs": [],
   "source": [
    "import json\n",
    "from bokeh.io import show\n",
    "from bokeh.io import output_file, save\n",
    "from bokeh.models import (CDSView, ColorBar, ColumnDataSource,\n",
    "                          CustomJS, CustomJSFilter, \n",
    "                          GeoJSONDataSource, HoverTool,\n",
    "                          CategoricalColorMapper, LinearColorMapper, Slider)\n",
    "from bokeh.layouts import column, row, widgetbox\n",
    "from bokeh.io import output_notebook\n",
    "from bokeh.plotting import figure"
   ]
  },
  {
   "cell_type": "markdown",
   "metadata": {},
   "source": [
    "#### Preparing to create the plot\n",
    "\n",
    "Create GeoJSONDataSource object with our initial data"
   ]
  },
  {
   "cell_type": "code",
   "execution_count": 10,
   "metadata": {},
   "outputs": [],
   "source": [
    "geosource = GeoJSONDataSource(geojson = newdf.to_json())"
   ]
  },
  {
   "cell_type": "markdown",
   "metadata": {},
   "source": [
    "Define the color palette to use and mapping to categorical values of Zones"
   ]
  },
  {
   "cell_type": "code",
   "execution_count": 11,
   "metadata": {},
   "outputs": [],
   "source": [
    "# Define color palette\n",
    "palette = ['red', 'orange', 'green']\n",
    "\n",
    "color_mapper = CategoricalColorMapper(palette = palette, factors = ['Red', 'Orange', 'Green'])\n"
   ]
  },
  {
   "cell_type": "markdown",
   "metadata": {},
   "source": [
    "### Choropleth Map"
   ]
  },
  {
   "cell_type": "code",
   "execution_count": 12,
   "metadata": {},
   "outputs": [
    {
     "data": {
      "text/plain": [
       "'Y:\\\\Downloads\\\\India specific analysis\\\\plot.html'"
      ]
     },
     "execution_count": 12,
     "metadata": {},
     "output_type": "execute_result"
    }
   ],
   "source": [
    "# Create figure object.\n",
    "p = figure(title = 'Red, Green and Orange Distric of Covid19: 31 May 2019',\n",
    "           plot_height = 700 ,\n",
    "           plot_width = 650, \n",
    "           toolbar_location = 'right',\n",
    "           tools = \"pan, wheel_zoom, box_zoom, reset\")\n",
    "p.title.text_font_size = '12pt'\n",
    "p.title.align = 'center'\n",
    "\n",
    "p.xgrid.grid_line_color = None\n",
    "p.ygrid.grid_line_color = None\n",
    "\n",
    "# Add patch renderer to figure.\n",
    "states = p.patches('xs','ys', source = geosource,\n",
    "                   fill_color = {'field' :'Zone',\n",
    "                                 'transform' : color_mapper},\n",
    "                   line_color = 'black',\n",
    "                   line_width = 0.25, \n",
    "                   fill_alpha = 1)\n",
    "# Create hover tool\n",
    "p.add_tools(HoverTool(renderers = [states],\n",
    "                      tooltips = [('District','@District'),\n",
    "                                  ('State','@State'),\n",
    "                                  ('Zone','@Zone'),\n",
    "                                  ('Confirmed cases','@Confirmed'),\n",
    "                                  ('Active cases','@Active'),\n",
    "                                  ('Recovered cases','@Recovered'),\n",
    "                                  ('Deaths','@Deceased')\n",
    "                                 ]))\n",
    "\n",
    "output_file('plot.html', mode='inline')\n",
    "save(p) # saves plot.html"
   ]
  },
  {
   "cell_type": "markdown",
   "metadata": {},
   "source": [
    "Cool! Our choropleth map has been generated. A toolbox in the right could be used to zoom and move the map."
   ]
  },
  {
   "cell_type": "code",
   "execution_count": 13,
   "metadata": {},
   "outputs": [],
   "source": [
    "show(p, notebook_handle = True) # displays plot.html in browser"
   ]
  },
  {
   "cell_type": "markdown",
   "metadata": {},
   "source": [
    "Check out the video to see the output https://youtu.be/JuF4cNeWKzc "
   ]
  }
 ],
 "metadata": {
  "kernelspec": {
   "display_name": "Python 3",
   "language": "python",
   "name": "python3"
  },
  "language_info": {
   "codemirror_mode": {
    "name": "ipython",
    "version": 3
   },
   "file_extension": ".py",
   "mimetype": "text/x-python",
   "name": "python",
   "nbconvert_exporter": "python",
   "pygments_lexer": "ipython3",
   "version": "3.7.6"
  }
 },
 "nbformat": 4,
 "nbformat_minor": 4
}
